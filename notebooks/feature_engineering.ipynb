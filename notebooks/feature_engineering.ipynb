{
 "cells": [
  {
   "cell_type": "code",
   "execution_count": 1,
   "metadata": {
    "collapsed": true
   },
   "outputs": [
    {
     "data": {
      "text/plain": "                                  belongs_to_collection    budget  \\\nid                                                                  \n1     [{'id': 313576, 'name': 'Hot Tub Time Machine ...  14000000   \n2     [{'id': 107674, 'name': 'The Princess Diaries ...  40000000   \n3                                                   NaN   3300000   \n4                                                   NaN   1200000   \n5                                                   NaN         0   \n...                                                 ...       ...   \n2996                                                NaN         0   \n2997                                                NaN         0   \n2998                                                NaN  65000000   \n2999                                                NaN  42000000   \n3000                                                NaN  35000000   \n\n                                                 genres  \\\nid                                                        \n1                        [{'id': 35, 'name': 'Comedy'}]   \n2     [{'id': 35, 'name': 'Comedy'}, {'id': 18, 'nam...   \n3                         [{'id': 18, 'name': 'Drama'}]   \n4     [{'id': 53, 'name': 'Thriller'}, {'id': 18, 'n...   \n5     [{'id': 28, 'name': 'Action'}, {'id': 53, 'nam...   \n...                                                 ...   \n2996  [{'id': 35, 'name': 'Comedy'}, {'id': 10749, '...   \n2997  [{'id': 18, 'name': 'Drama'}, {'id': 10402, 'n...   \n2998  [{'id': 80, 'name': 'Crime'}, {'id': 28, 'name...   \n2999  [{'id': 35, 'name': 'Comedy'}, {'id': 10749, '...   \n3000  [{'id': 53, 'name': 'Thriller'}, {'id': 28, 'n...   \n\n                               homepage    imdb_id original_language  \\\nid                                                                     \n1                                   NaN  tt2637294                en   \n2                                   NaN  tt0368933                en   \n3     http://sonyclassics.com/whiplash/  tt2582802                en   \n4            http://kahaanithefilm.com/  tt1821480                hi   \n5                                   NaN  tt1380152                ko   \n...                                 ...        ...               ...   \n2996                                NaN  tt0109403                en   \n2997                                NaN  tt2364975                sv   \n2998                                NaN  tt0116908                en   \n2999     http://www.alongcamepolly.com/  tt0343135                en   \n3000   http://www.abductionthefilm.com/  tt1600195                en   \n\n                                original_title  \\\nid                                               \n1                       Hot Tub Time Machine 2   \n2     The Princess Diaries 2: Royal Engagement   \n3                                     Whiplash   \n4                                      Kahaani   \n5                                         마린보이   \n...                                        ...   \n2996                                   Chasers   \n2997                               Vi är bäst!   \n2998                   The Long Kiss Goodnight   \n2999                          Along Came Polly   \n3000                                 Abduction   \n\n                                               overview  popularity  \\\nid                                                                    \n1     When Lou, who has become the \"father of the In...    6.575393   \n2     Mia Thermopolis is now a college graduate and ...    8.248895   \n3     Under the direction of a ruthless instructor, ...   64.299990   \n4     Vidya Bagchi (Vidya Balan) arrives in Kolkata ...    3.174936   \n5     Marine Boy is the story of a former national s...    1.148070   \n...                                                 ...         ...   \n2996  Military men Rock Reilly and Eddie Devane are ...    9.853270   \n2997  Three girls in 1980s Stockholm decide to form ...    3.727996   \n2998  Samantha Caine, suburban homemaker, is the ide...   14.482345   \n2999  Reuben Feffer is a guy who's spent his entire ...   15.725542   \n3000  A young man sets out to uncover the truth abou...   10.512109   \n\n                           poster_path  ... release_date runtime  \\\nid                                      ...                        \n1     /tQtWuwvMf0hCc2QR2tkolwl7c3c.jpg  ...      2/20/15    93.0   \n2     /w9Z7A0GHEhIp7etpj0vyKOeU1Wx.jpg  ...       8/6/04   113.0   \n3     /lIv1QinFqz4dlp5U4lQ6HaiskOZ.jpg  ...     10/10/14   105.0   \n4     /aTXRaPrWSinhcmCrcfJK17urp3F.jpg  ...       3/9/12   122.0   \n5     /m22s7zvkVFDU9ir56PiiqIEWFdT.jpg  ...       2/5/09   118.0   \n...                                ...  ...          ...     ...   \n2996  /j8Q7pQ27hvH54wpxJzIuQgQCdro.jpg  ...      4/22/94   102.0   \n2997  /sS01LSy6KDrCZAhtkO18UdnWFT1.jpg  ...      3/28/13   102.0   \n2998  /4MENR8x6mYqnZvp2hGjSaPJz64J.jpg  ...     10/11/96   120.0   \n2999  /nIY4kvJTTnxoBR0wycrXng5MOYs.jpg  ...      1/16/04    90.0   \n3000  /cUT6NQP5LAJpmUoStGtXmvNt4zA.jpg  ...      9/22/11   106.0   \n\n                                       spoken_languages    status  \\\nid                                                                  \n1              [{'iso_639_1': 'en', 'name': 'English'}]  Released   \n2              [{'iso_639_1': 'en', 'name': 'English'}]  Released   \n3              [{'iso_639_1': 'en', 'name': 'English'}]  Released   \n4     [{'iso_639_1': 'en', 'name': 'English'}, {'iso...  Released   \n5              [{'iso_639_1': 'ko', 'name': '한국어/조선말'}]  Released   \n...                                                 ...       ...   \n2996           [{'iso_639_1': 'en', 'name': 'English'}]  Released   \n2997           [{'iso_639_1': 'sv', 'name': 'svenska'}]  Released   \n2998           [{'iso_639_1': 'en', 'name': 'English'}]  Released   \n2999           [{'iso_639_1': 'en', 'name': 'English'}]  Released   \n3000           [{'iso_639_1': 'en', 'name': 'English'}]  Released   \n\n                                                tagline  \\\nid                                                        \n1     The Laws of Space and Time are About to be Vio...   \n2     It can take a lifetime to find true love; she'...   \n3       The road to greatness can take you to the edge.   \n4                                                   NaN   \n5                                                   NaN   \n...                                                 ...   \n2996  It was supposed to be a routine prisoner trans...   \n2997                                                NaN   \n2998               What's forgotten is not always gone.   \n2999  For the most cautious man on Earth, life is ab...   \n3000          They stole his life. He's taking it back.   \n\n                                         title  \\\nid                                               \n1                       Hot Tub Time Machine 2   \n2     The Princess Diaries 2: Royal Engagement   \n3                                     Whiplash   \n4                                      Kahaani   \n5                                   Marine Boy   \n...                                        ...   \n2996                                   Chasers   \n2997                          We Are the Best!   \n2998                   The Long Kiss Goodnight   \n2999                          Along Came Polly   \n3000                                 Abduction   \n\n                                               Keywords  \\\nid                                                        \n1     [{'id': 4379, 'name': 'time travel'}, {'id': 9...   \n2     [{'id': 2505, 'name': 'coronation'}, {'id': 42...   \n3     [{'id': 1416, 'name': 'jazz'}, {'id': 1523, 'n...   \n4     [{'id': 10092, 'name': 'mystery'}, {'id': 1054...   \n5                                                   NaN   \n...                                                 ...   \n2996  [{'id': 378, 'name': 'prison'}, {'id': 572, 'n...   \n2997  [{'id': 1192, 'name': 'sweden'}, {'id': 4470, ...   \n2998  [{'id': 441, 'name': 'assassination'}, {'id': ...   \n2999  [{'id': 966, 'name': 'beach'}, {'id': 2676, 'n...   \n3000  [{'id': 591, 'name': 'cia'}, {'id': 822, 'name...   \n\n                                                   cast  \\\nid                                                        \n1     [{'cast_id': 4, 'character': 'Lou', 'credit_id...   \n2     [{'cast_id': 1, 'character': 'Mia Thermopolis'...   \n3     [{'cast_id': 5, 'character': 'Andrew Neimann',...   \n4     [{'cast_id': 1, 'character': 'Vidya Bagchi', '...   \n5     [{'cast_id': 3, 'character': 'Chun-soo', 'cred...   \n...                                                 ...   \n2996  [{'cast_id': 2, 'character': 'Rock Reilly', 'c...   \n2997  [{'cast_id': 5, 'character': 'Bobo', 'credit_i...   \n2998  [{'cast_id': 10, 'character': 'Samantha Caine ...   \n2999  [{'cast_id': 8, 'character': 'Reuben Feffer', ...   \n3000  [{'cast_id': 2, 'character': 'Nathan Harper', ...   \n\n                                                   crew    revenue  \nid                                                                  \n1     [{'credit_id': '59ac067c92514107af02c8c8', 'de...   12314651  \n2     [{'credit_id': '52fe43fe9251416c7502563d', 'de...   95149435  \n3     [{'credit_id': '54d5356ec3a3683ba0000039', 'de...   13092000  \n4     [{'credit_id': '52fe48779251416c9108d6eb', 'de...   16000000  \n5     [{'credit_id': '52fe464b9251416c75073b43', 'de...    3923970  \n...                                                 ...        ...  \n2996  [{'credit_id': '52fe4494c3a368484e02ac7d', 'de...    1596687  \n2997  [{'credit_id': '5716b72ac3a3686678012c84', 'de...     180590  \n2998  [{'credit_id': '52fe443a9251416c7502d579', 'de...   89456761  \n2999  [{'credit_id': '556f817b9251410866000a63', 'de...  171963386  \n3000  [{'credit_id': '5391990d0e0a260fb5001629', 'de...   82087155  \n\n[3000 rows x 22 columns]",
      "text/html": "<div>\n<style scoped>\n    .dataframe tbody tr th:only-of-type {\n        vertical-align: middle;\n    }\n\n    .dataframe tbody tr th {\n        vertical-align: top;\n    }\n\n    .dataframe thead th {\n        text-align: right;\n    }\n</style>\n<table border=\"1\" class=\"dataframe\">\n  <thead>\n    <tr style=\"text-align: right;\">\n      <th></th>\n      <th>belongs_to_collection</th>\n      <th>budget</th>\n      <th>genres</th>\n      <th>homepage</th>\n      <th>imdb_id</th>\n      <th>original_language</th>\n      <th>original_title</th>\n      <th>overview</th>\n      <th>popularity</th>\n      <th>poster_path</th>\n      <th>...</th>\n      <th>release_date</th>\n      <th>runtime</th>\n      <th>spoken_languages</th>\n      <th>status</th>\n      <th>tagline</th>\n      <th>title</th>\n      <th>Keywords</th>\n      <th>cast</th>\n      <th>crew</th>\n      <th>revenue</th>\n    </tr>\n    <tr>\n      <th>id</th>\n      <th></th>\n      <th></th>\n      <th></th>\n      <th></th>\n      <th></th>\n      <th></th>\n      <th></th>\n      <th></th>\n      <th></th>\n      <th></th>\n      <th></th>\n      <th></th>\n      <th></th>\n      <th></th>\n      <th></th>\n      <th></th>\n      <th></th>\n      <th></th>\n      <th></th>\n      <th></th>\n      <th></th>\n    </tr>\n  </thead>\n  <tbody>\n    <tr>\n      <th>1</th>\n      <td>[{'id': 313576, 'name': 'Hot Tub Time Machine ...</td>\n      <td>14000000</td>\n      <td>[{'id': 35, 'name': 'Comedy'}]</td>\n      <td>NaN</td>\n      <td>tt2637294</td>\n      <td>en</td>\n      <td>Hot Tub Time Machine 2</td>\n      <td>When Lou, who has become the \"father of the In...</td>\n      <td>6.575393</td>\n      <td>/tQtWuwvMf0hCc2QR2tkolwl7c3c.jpg</td>\n      <td>...</td>\n      <td>2/20/15</td>\n      <td>93.0</td>\n      <td>[{'iso_639_1': 'en', 'name': 'English'}]</td>\n      <td>Released</td>\n      <td>The Laws of Space and Time are About to be Vio...</td>\n      <td>Hot Tub Time Machine 2</td>\n      <td>[{'id': 4379, 'name': 'time travel'}, {'id': 9...</td>\n      <td>[{'cast_id': 4, 'character': 'Lou', 'credit_id...</td>\n      <td>[{'credit_id': '59ac067c92514107af02c8c8', 'de...</td>\n      <td>12314651</td>\n    </tr>\n    <tr>\n      <th>2</th>\n      <td>[{'id': 107674, 'name': 'The Princess Diaries ...</td>\n      <td>40000000</td>\n      <td>[{'id': 35, 'name': 'Comedy'}, {'id': 18, 'nam...</td>\n      <td>NaN</td>\n      <td>tt0368933</td>\n      <td>en</td>\n      <td>The Princess Diaries 2: Royal Engagement</td>\n      <td>Mia Thermopolis is now a college graduate and ...</td>\n      <td>8.248895</td>\n      <td>/w9Z7A0GHEhIp7etpj0vyKOeU1Wx.jpg</td>\n      <td>...</td>\n      <td>8/6/04</td>\n      <td>113.0</td>\n      <td>[{'iso_639_1': 'en', 'name': 'English'}]</td>\n      <td>Released</td>\n      <td>It can take a lifetime to find true love; she'...</td>\n      <td>The Princess Diaries 2: Royal Engagement</td>\n      <td>[{'id': 2505, 'name': 'coronation'}, {'id': 42...</td>\n      <td>[{'cast_id': 1, 'character': 'Mia Thermopolis'...</td>\n      <td>[{'credit_id': '52fe43fe9251416c7502563d', 'de...</td>\n      <td>95149435</td>\n    </tr>\n    <tr>\n      <th>3</th>\n      <td>NaN</td>\n      <td>3300000</td>\n      <td>[{'id': 18, 'name': 'Drama'}]</td>\n      <td>http://sonyclassics.com/whiplash/</td>\n      <td>tt2582802</td>\n      <td>en</td>\n      <td>Whiplash</td>\n      <td>Under the direction of a ruthless instructor, ...</td>\n      <td>64.299990</td>\n      <td>/lIv1QinFqz4dlp5U4lQ6HaiskOZ.jpg</td>\n      <td>...</td>\n      <td>10/10/14</td>\n      <td>105.0</td>\n      <td>[{'iso_639_1': 'en', 'name': 'English'}]</td>\n      <td>Released</td>\n      <td>The road to greatness can take you to the edge.</td>\n      <td>Whiplash</td>\n      <td>[{'id': 1416, 'name': 'jazz'}, {'id': 1523, 'n...</td>\n      <td>[{'cast_id': 5, 'character': 'Andrew Neimann',...</td>\n      <td>[{'credit_id': '54d5356ec3a3683ba0000039', 'de...</td>\n      <td>13092000</td>\n    </tr>\n    <tr>\n      <th>4</th>\n      <td>NaN</td>\n      <td>1200000</td>\n      <td>[{'id': 53, 'name': 'Thriller'}, {'id': 18, 'n...</td>\n      <td>http://kahaanithefilm.com/</td>\n      <td>tt1821480</td>\n      <td>hi</td>\n      <td>Kahaani</td>\n      <td>Vidya Bagchi (Vidya Balan) arrives in Kolkata ...</td>\n      <td>3.174936</td>\n      <td>/aTXRaPrWSinhcmCrcfJK17urp3F.jpg</td>\n      <td>...</td>\n      <td>3/9/12</td>\n      <td>122.0</td>\n      <td>[{'iso_639_1': 'en', 'name': 'English'}, {'iso...</td>\n      <td>Released</td>\n      <td>NaN</td>\n      <td>Kahaani</td>\n      <td>[{'id': 10092, 'name': 'mystery'}, {'id': 1054...</td>\n      <td>[{'cast_id': 1, 'character': 'Vidya Bagchi', '...</td>\n      <td>[{'credit_id': '52fe48779251416c9108d6eb', 'de...</td>\n      <td>16000000</td>\n    </tr>\n    <tr>\n      <th>5</th>\n      <td>NaN</td>\n      <td>0</td>\n      <td>[{'id': 28, 'name': 'Action'}, {'id': 53, 'nam...</td>\n      <td>NaN</td>\n      <td>tt1380152</td>\n      <td>ko</td>\n      <td>마린보이</td>\n      <td>Marine Boy is the story of a former national s...</td>\n      <td>1.148070</td>\n      <td>/m22s7zvkVFDU9ir56PiiqIEWFdT.jpg</td>\n      <td>...</td>\n      <td>2/5/09</td>\n      <td>118.0</td>\n      <td>[{'iso_639_1': 'ko', 'name': '한국어/조선말'}]</td>\n      <td>Released</td>\n      <td>NaN</td>\n      <td>Marine Boy</td>\n      <td>NaN</td>\n      <td>[{'cast_id': 3, 'character': 'Chun-soo', 'cred...</td>\n      <td>[{'credit_id': '52fe464b9251416c75073b43', 'de...</td>\n      <td>3923970</td>\n    </tr>\n    <tr>\n      <th>...</th>\n      <td>...</td>\n      <td>...</td>\n      <td>...</td>\n      <td>...</td>\n      <td>...</td>\n      <td>...</td>\n      <td>...</td>\n      <td>...</td>\n      <td>...</td>\n      <td>...</td>\n      <td>...</td>\n      <td>...</td>\n      <td>...</td>\n      <td>...</td>\n      <td>...</td>\n      <td>...</td>\n      <td>...</td>\n      <td>...</td>\n      <td>...</td>\n      <td>...</td>\n      <td>...</td>\n    </tr>\n    <tr>\n      <th>2996</th>\n      <td>NaN</td>\n      <td>0</td>\n      <td>[{'id': 35, 'name': 'Comedy'}, {'id': 10749, '...</td>\n      <td>NaN</td>\n      <td>tt0109403</td>\n      <td>en</td>\n      <td>Chasers</td>\n      <td>Military men Rock Reilly and Eddie Devane are ...</td>\n      <td>9.853270</td>\n      <td>/j8Q7pQ27hvH54wpxJzIuQgQCdro.jpg</td>\n      <td>...</td>\n      <td>4/22/94</td>\n      <td>102.0</td>\n      <td>[{'iso_639_1': 'en', 'name': 'English'}]</td>\n      <td>Released</td>\n      <td>It was supposed to be a routine prisoner trans...</td>\n      <td>Chasers</td>\n      <td>[{'id': 378, 'name': 'prison'}, {'id': 572, 'n...</td>\n      <td>[{'cast_id': 2, 'character': 'Rock Reilly', 'c...</td>\n      <td>[{'credit_id': '52fe4494c3a368484e02ac7d', 'de...</td>\n      <td>1596687</td>\n    </tr>\n    <tr>\n      <th>2997</th>\n      <td>NaN</td>\n      <td>0</td>\n      <td>[{'id': 18, 'name': 'Drama'}, {'id': 10402, 'n...</td>\n      <td>NaN</td>\n      <td>tt2364975</td>\n      <td>sv</td>\n      <td>Vi är bäst!</td>\n      <td>Three girls in 1980s Stockholm decide to form ...</td>\n      <td>3.727996</td>\n      <td>/sS01LSy6KDrCZAhtkO18UdnWFT1.jpg</td>\n      <td>...</td>\n      <td>3/28/13</td>\n      <td>102.0</td>\n      <td>[{'iso_639_1': 'sv', 'name': 'svenska'}]</td>\n      <td>Released</td>\n      <td>NaN</td>\n      <td>We Are the Best!</td>\n      <td>[{'id': 1192, 'name': 'sweden'}, {'id': 4470, ...</td>\n      <td>[{'cast_id': 5, 'character': 'Bobo', 'credit_i...</td>\n      <td>[{'credit_id': '5716b72ac3a3686678012c84', 'de...</td>\n      <td>180590</td>\n    </tr>\n    <tr>\n      <th>2998</th>\n      <td>NaN</td>\n      <td>65000000</td>\n      <td>[{'id': 80, 'name': 'Crime'}, {'id': 28, 'name...</td>\n      <td>NaN</td>\n      <td>tt0116908</td>\n      <td>en</td>\n      <td>The Long Kiss Goodnight</td>\n      <td>Samantha Caine, suburban homemaker, is the ide...</td>\n      <td>14.482345</td>\n      <td>/4MENR8x6mYqnZvp2hGjSaPJz64J.jpg</td>\n      <td>...</td>\n      <td>10/11/96</td>\n      <td>120.0</td>\n      <td>[{'iso_639_1': 'en', 'name': 'English'}]</td>\n      <td>Released</td>\n      <td>What's forgotten is not always gone.</td>\n      <td>The Long Kiss Goodnight</td>\n      <td>[{'id': 441, 'name': 'assassination'}, {'id': ...</td>\n      <td>[{'cast_id': 10, 'character': 'Samantha Caine ...</td>\n      <td>[{'credit_id': '52fe443a9251416c7502d579', 'de...</td>\n      <td>89456761</td>\n    </tr>\n    <tr>\n      <th>2999</th>\n      <td>NaN</td>\n      <td>42000000</td>\n      <td>[{'id': 35, 'name': 'Comedy'}, {'id': 10749, '...</td>\n      <td>http://www.alongcamepolly.com/</td>\n      <td>tt0343135</td>\n      <td>en</td>\n      <td>Along Came Polly</td>\n      <td>Reuben Feffer is a guy who's spent his entire ...</td>\n      <td>15.725542</td>\n      <td>/nIY4kvJTTnxoBR0wycrXng5MOYs.jpg</td>\n      <td>...</td>\n      <td>1/16/04</td>\n      <td>90.0</td>\n      <td>[{'iso_639_1': 'en', 'name': 'English'}]</td>\n      <td>Released</td>\n      <td>For the most cautious man on Earth, life is ab...</td>\n      <td>Along Came Polly</td>\n      <td>[{'id': 966, 'name': 'beach'}, {'id': 2676, 'n...</td>\n      <td>[{'cast_id': 8, 'character': 'Reuben Feffer', ...</td>\n      <td>[{'credit_id': '556f817b9251410866000a63', 'de...</td>\n      <td>171963386</td>\n    </tr>\n    <tr>\n      <th>3000</th>\n      <td>NaN</td>\n      <td>35000000</td>\n      <td>[{'id': 53, 'name': 'Thriller'}, {'id': 28, 'n...</td>\n      <td>http://www.abductionthefilm.com/</td>\n      <td>tt1600195</td>\n      <td>en</td>\n      <td>Abduction</td>\n      <td>A young man sets out to uncover the truth abou...</td>\n      <td>10.512109</td>\n      <td>/cUT6NQP5LAJpmUoStGtXmvNt4zA.jpg</td>\n      <td>...</td>\n      <td>9/22/11</td>\n      <td>106.0</td>\n      <td>[{'iso_639_1': 'en', 'name': 'English'}]</td>\n      <td>Released</td>\n      <td>They stole his life. He's taking it back.</td>\n      <td>Abduction</td>\n      <td>[{'id': 591, 'name': 'cia'}, {'id': 822, 'name...</td>\n      <td>[{'cast_id': 2, 'character': 'Nathan Harper', ...</td>\n      <td>[{'credit_id': '5391990d0e0a260fb5001629', 'de...</td>\n      <td>82087155</td>\n    </tr>\n  </tbody>\n</table>\n<p>3000 rows × 22 columns</p>\n</div>"
     },
     "execution_count": 1,
     "metadata": {},
     "output_type": "execute_result"
    }
   ],
   "source": [
    "import pandas as pd\n",
    "\n",
    "%load_ext autoreload\n",
    "%autoreload 2\n",
    "\n",
    "ds = pd.read_csv('./../data/train.csv', index_col='id')\n",
    "ds_test = pd.read_csv('./../data/test.csv', index_col='id')\n",
    "ds"
   ]
  },
  {
   "cell_type": "code",
   "execution_count": 24,
   "outputs": [],
   "source": [
    "import kowalsky\n",
    "from sklearn.tree import DecisionTreeRegressor\n",
    "from sklearn.linear_model import LinearRegression\n",
    "\n",
    "def train_test_feed(train, test, make_feed, params):\n",
    "    return make_feed(train, params), make_feed(test, params | { 'is_test': True })\n",
    "\n",
    "def eval_feed(make_feed, id, **params):\n",
    "    train, test = train_test_feed(ds, ds_test, make_feed, params)\n",
    "    train.to_csv(f\"./../data/feed/feed_{id}.csv\")\n",
    "    test.to_csv(f\"./../data/feed/feed_{id}_test.csv\")\n",
    "\n",
    "    model = DecisionTreeRegressor(max_depth=4)\n",
    "    kowalsky.analysis(model,\n",
    "                      y_column='revenue',\n",
    "                      path=f\"./../data/feed/feed_{id}.csv\",\n",
    "                      path_test=f\"./../data/feed/feed_{id}_test.csv\",\n",
    "                      path_out=f\"./../data/out/dt_{id}.csv\",\n",
    "                      sample_path='./../data/sample_submission.csv',\n",
    "                      scorer='rmsle',\n",
    "                      greater_is_better=False,\n",
    "                      export_test_set=True,\n",
    "                      target_transform_fn=params.get('target_transform_fn'),\n",
    "                      rounds=10)\n",
    "    # print(sorted(list(zip(model.feature_importances_, train.columns)), reverse=True))"
   ],
   "metadata": {
    "collapsed": false,
    "pycharm": {
     "name": "#%%\n"
    }
   }
  },
  {
   "cell_type": "code",
   "execution_count": 25,
   "outputs": [
    {
     "name": "stdout",
     "output_type": "stream",
     "text": [
      "2.896221292900516\n"
     ]
    },
    {
     "data": {
      "text/plain": "        budget  popularity  runtime    revenue  month  day  year\nid                                                              \n1     14000000    6.575393     93.0   12314651      2   20  2015\n2     40000000    8.248895    113.0   95149435      8    6  2004\n3      3300000   64.299990    105.0   13092000     10   10  2014\n4      1200000    3.174936    122.0   16000000      3    9  2012\n5            0    1.148070    118.0    3923970      2    5  2009\n...        ...         ...      ...        ...    ...  ...   ...\n2996         0    9.853270    102.0    1596687      4   22  1994\n2997         0    3.727996    102.0     180590      3   28  2013\n2998  65000000   14.482345    120.0   89456761     10   11  1996\n2999  42000000   15.725542     90.0  171963386      1   16  2004\n3000  35000000   10.512109    106.0   82087155      9   22  2011\n\n[3000 rows x 7 columns]",
      "text/html": "<div>\n<style scoped>\n    .dataframe tbody tr th:only-of-type {\n        vertical-align: middle;\n    }\n\n    .dataframe tbody tr th {\n        vertical-align: top;\n    }\n\n    .dataframe thead th {\n        text-align: right;\n    }\n</style>\n<table border=\"1\" class=\"dataframe\">\n  <thead>\n    <tr style=\"text-align: right;\">\n      <th></th>\n      <th>budget</th>\n      <th>popularity</th>\n      <th>runtime</th>\n      <th>revenue</th>\n      <th>month</th>\n      <th>day</th>\n      <th>year</th>\n    </tr>\n    <tr>\n      <th>id</th>\n      <th></th>\n      <th></th>\n      <th></th>\n      <th></th>\n      <th></th>\n      <th></th>\n      <th></th>\n    </tr>\n  </thead>\n  <tbody>\n    <tr>\n      <th>1</th>\n      <td>14000000</td>\n      <td>6.575393</td>\n      <td>93.0</td>\n      <td>12314651</td>\n      <td>2</td>\n      <td>20</td>\n      <td>2015</td>\n    </tr>\n    <tr>\n      <th>2</th>\n      <td>40000000</td>\n      <td>8.248895</td>\n      <td>113.0</td>\n      <td>95149435</td>\n      <td>8</td>\n      <td>6</td>\n      <td>2004</td>\n    </tr>\n    <tr>\n      <th>3</th>\n      <td>3300000</td>\n      <td>64.299990</td>\n      <td>105.0</td>\n      <td>13092000</td>\n      <td>10</td>\n      <td>10</td>\n      <td>2014</td>\n    </tr>\n    <tr>\n      <th>4</th>\n      <td>1200000</td>\n      <td>3.174936</td>\n      <td>122.0</td>\n      <td>16000000</td>\n      <td>3</td>\n      <td>9</td>\n      <td>2012</td>\n    </tr>\n    <tr>\n      <th>5</th>\n      <td>0</td>\n      <td>1.148070</td>\n      <td>118.0</td>\n      <td>3923970</td>\n      <td>2</td>\n      <td>5</td>\n      <td>2009</td>\n    </tr>\n    <tr>\n      <th>...</th>\n      <td>...</td>\n      <td>...</td>\n      <td>...</td>\n      <td>...</td>\n      <td>...</td>\n      <td>...</td>\n      <td>...</td>\n    </tr>\n    <tr>\n      <th>2996</th>\n      <td>0</td>\n      <td>9.853270</td>\n      <td>102.0</td>\n      <td>1596687</td>\n      <td>4</td>\n      <td>22</td>\n      <td>1994</td>\n    </tr>\n    <tr>\n      <th>2997</th>\n      <td>0</td>\n      <td>3.727996</td>\n      <td>102.0</td>\n      <td>180590</td>\n      <td>3</td>\n      <td>28</td>\n      <td>2013</td>\n    </tr>\n    <tr>\n      <th>2998</th>\n      <td>65000000</td>\n      <td>14.482345</td>\n      <td>120.0</td>\n      <td>89456761</td>\n      <td>10</td>\n      <td>11</td>\n      <td>1996</td>\n    </tr>\n    <tr>\n      <th>2999</th>\n      <td>42000000</td>\n      <td>15.725542</td>\n      <td>90.0</td>\n      <td>171963386</td>\n      <td>1</td>\n      <td>16</td>\n      <td>2004</td>\n    </tr>\n    <tr>\n      <th>3000</th>\n      <td>35000000</td>\n      <td>10.512109</td>\n      <td>106.0</td>\n      <td>82087155</td>\n      <td>9</td>\n      <td>22</td>\n      <td>2011</td>\n    </tr>\n  </tbody>\n</table>\n<p>3000 rows × 7 columns</p>\n</div>"
     },
     "execution_count": 25,
     "metadata": {},
     "output_type": "execute_result"
    }
   ],
   "source": [
    "from kowalsky.df import drop\n",
    "\n",
    "def make_feed_1(ds_raw, params={}):\n",
    "    ds = ds_raw.copy()\n",
    "    \n",
    "    ds = drop(ds, ['belongs_to_collection', 'genres', 'homepage',\n",
    "              'imdb_id', 'original_title', 'overview', 'poster_path',\n",
    "              'production_companies', 'production_countries',\n",
    "              'spoken_languages', 'status', 'tagline', 'title',\n",
    "              'Keywords', 'cast', 'crew', 'original_language'])\n",
    "    ds.release_date = ds.release_date.fillna('1/1/0')\n",
    "    ds.runtime = ds.runtime.fillna(ds.runtime.mean())\n",
    "\n",
    "    ds['month'] = ds.release_date.apply(\n",
    "        lambda str: int(str.split('/')[0])\n",
    "    )\n",
    "    ds['day'] = ds.release_date.apply(\n",
    "        lambda str: int(str.split('/')[1])\n",
    "    )\n",
    "\n",
    "    def parse_year(str):\n",
    "        num = int(str.split('/')[2])\n",
    "        return num + 2000 if num < 19 else num + 1900\n",
    "    ds['year'] = ds.release_date.apply(parse_year)\n",
    "    ds = drop(ds, ['release_date'])\n",
    "\n",
    "    return ds\n",
    "\n",
    "eval_feed(make_feed_1, '1')\n",
    "make_feed_1(ds)"
   ],
   "metadata": {
    "collapsed": false,
    "pycharm": {
     "name": "#%%\n"
    }
   }
  },
  {
   "cell_type": "code",
   "execution_count": 26,
   "outputs": [
    {
     "name": "stdout",
     "output_type": "stream",
     "text": [
      "0.2189941845206281\n"
     ]
    },
    {
     "data": {
      "text/plain": "<Figure size 360x360 with 1 Axes>",
      "image/png": "[encoded data removed]"
     },
     "metadata": {
      "needs_background": "light"
     },
     "output_type": "display_data"
    }
   ],
   "source": [
    "from kowalsky.df import transform\n",
    "import seaborn as sns\n",
    "import numpy as np\n",
    "\n",
    "def make_feed_2(ds_raw, params={}):\n",
    "    ds = make_feed_1(ds_raw, params)\n",
    "\n",
    "    ds = transform(ds, ['revenue'])\n",
    "\n",
    "    return ds\n",
    "\n",
    "feed_2 = make_feed_2(ds)\n",
    "sns.displot(feed_2.revenue)\n",
    "eval_feed(make_feed_2, '2', target_transform_fn=np.expm1)"
   ],
   "metadata": {
    "collapsed": false,
    "pycharm": {
     "name": "#%%\n"
    }
   }
  },
  {
   "cell_type": "code",
   "execution_count": 27,
   "outputs": [
    {
     "name": "stdout",
     "output_type": "stream",
     "text": [
      "0.2189941845206281\n"
     ]
    },
    {
     "data": {
      "text/plain": "<Figure size 360x360 with 1 Axes>",
      "image/png": "[encoded data removed]"
     },
     "metadata": {
      "needs_background": "light"
     },
     "output_type": "display_data"
    },
    {
     "data": {
      "text/plain": "<Figure size 360x360 with 1 Axes>",
      "image/png": "[encoded data removed]"
     },
     "metadata": {
      "needs_background": "light"
     },
     "output_type": "display_data"
    }
   ],
   "source": [
    "def make_feed_3(ds_raw, params={}):\n",
    "    ds = make_feed_2(ds_raw)\n",
    "\n",
    "    ds = transform(ds, ['budget', 'popularity'])\n",
    "\n",
    "    return ds\n",
    "\n",
    "feed_3 = make_feed_3(ds)\n",
    "sns.displot(feed_3.budget)\n",
    "sns.displot(feed_3.popularity)\n",
    "eval_feed(make_feed_3, '3', target_transform_fn=np.expm1)"
   ],
   "metadata": {
    "collapsed": false,
    "pycharm": {
     "name": "#%%\n"
    }
   }
  },
  {
   "cell_type": "code",
   "execution_count": 43,
   "outputs": [
    {
     "name": "stdout",
     "output_type": "stream",
     "text": [
      "0.2046807260599118\n"
     ]
    }
   ],
   "source": [
    "from kowalsky.df import handle_outliers\n",
    "\n",
    "def make_feed_4(ds_raw, params={}):\n",
    "    ds = make_feed_2(ds_raw)\n",
    "\n",
    "    if not params.get('is_test', False):\n",
    "        ds = handle_outliers(ds, ['popularity'], drop=True)\n",
    "\n",
    "    return ds\n",
    "\n",
    "eval_feed(make_feed_4, '4', target_transform_fn=np.expm1)"
   ],
   "metadata": {
    "collapsed": false,
    "pycharm": {
     "name": "#%%\n"
    }
   }
  },
  {
   "cell_type": "code",
   "execution_count": 52,
   "outputs": [
    {
     "name": "stdout",
     "output_type": "stream",
     "text": [
      "0.20359518294098095\n"
     ]
    },
    {
     "data": {
      "text/plain": "        budget  popularity  runtime    revenue  month  day  year\nid                                                              \n1    -0.204864    6.575393     93.0  16.326300      2   20  2015\n2     0.634807    8.248895    113.0  18.370959      8    6  2004\n4    -0.618240    3.174936    122.0  16.588099      3    9  2012\n5    -0.656994    1.148070    118.0  15.182615      2    5  2009\n6    -0.398634    0.743274     83.0  14.997740      8    6  1987\n...        ...         ...      ...        ...    ...  ...   ...\n2996 -0.656994    9.853270    102.0  14.283442      4   22  1994\n2997 -0.656994    3.727996    102.0  12.103990      3   28  2013\n2998  1.442183   14.482345    120.0  18.309266     10   11  1996\n2999  0.699397   15.725542     90.0  18.962792      1   16  2004\n3000  0.473332   10.512109    106.0  18.223292      9   22  2011\n\n[2700 rows x 7 columns]",
      "text/html": "<div>\n<style scoped>\n    .dataframe tbody tr th:only-of-type {\n        vertical-align: middle;\n    }\n\n    .dataframe tbody tr th {\n        vertical-align: top;\n    }\n\n    .dataframe thead th {\n        text-align: right;\n    }\n</style>\n<table border=\"1\" class=\"dataframe\">\n  <thead>\n    <tr style=\"text-align: right;\">\n      <th></th>\n      <th>budget</th>\n      <th>popularity</th>\n      <th>runtime</th>\n      <th>revenue</th>\n      <th>month</th>\n      <th>day</th>\n      <th>year</th>\n    </tr>\n    <tr>\n      <th>id</th>\n      <th></th>\n      <th></th>\n      <th></th>\n      <th></th>\n      <th></th>\n      <th></th>\n      <th></th>\n    </tr>\n  </thead>\n  <tbody>\n    <tr>\n      <th>1</th>\n      <td>-0.204864</td>\n      <td>6.575393</td>\n      <td>93.0</td>\n      <td>16.326300</td>\n      <td>2</td>\n      <td>20</td>\n      <td>2015</td>\n    </tr>\n    <tr>\n      <th>2</th>\n      <td>0.634807</td>\n      <td>8.248895</td>\n      <td>113.0</td>\n      <td>18.370959</td>\n      <td>8</td>\n      <td>6</td>\n      <td>2004</td>\n    </tr>\n    <tr>\n      <th>4</th>\n      <td>-0.618240</td>\n      <td>3.174936</td>\n      <td>122.0</td>\n      <td>16.588099</td>\n      <td>3</td>\n      <td>9</td>\n      <td>2012</td>\n    </tr>\n    <tr>\n      <th>5</th>\n      <td>-0.656994</td>\n      <td>1.148070</td>\n      <td>118.0</td>\n      <td>15.182615</td>\n      <td>2</td>\n      <td>5</td>\n      <td>2009</td>\n    </tr>\n    <tr>\n      <th>6</th>\n      <td>-0.398634</td>\n      <td>0.743274</td>\n      <td>83.0</td>\n      <td>14.997740</td>\n      <td>8</td>\n      <td>6</td>\n      <td>1987</td>\n    </tr>\n    <tr>\n      <th>...</th>\n      <td>...</td>\n      <td>...</td>\n      <td>...</td>\n      <td>...</td>\n      <td>...</td>\n      <td>...</td>\n      <td>...</td>\n    </tr>\n    <tr>\n      <th>2996</th>\n      <td>-0.656994</td>\n      <td>9.853270</td>\n      <td>102.0</td>\n      <td>14.283442</td>\n      <td>4</td>\n      <td>22</td>\n      <td>1994</td>\n    </tr>\n    <tr>\n      <th>2997</th>\n      <td>-0.656994</td>\n      <td>3.727996</td>\n      <td>102.0</td>\n      <td>12.103990</td>\n      <td>3</td>\n      <td>28</td>\n      <td>2013</td>\n    </tr>\n    <tr>\n      <th>2998</th>\n      <td>1.442183</td>\n      <td>14.482345</td>\n      <td>120.0</td>\n      <td>18.309266</td>\n      <td>10</td>\n      <td>11</td>\n      <td>1996</td>\n    </tr>\n    <tr>\n      <th>2999</th>\n      <td>0.699397</td>\n      <td>15.725542</td>\n      <td>90.0</td>\n      <td>18.962792</td>\n      <td>1</td>\n      <td>16</td>\n      <td>2004</td>\n    </tr>\n    <tr>\n      <th>3000</th>\n      <td>0.473332</td>\n      <td>10.512109</td>\n      <td>106.0</td>\n      <td>18.223292</td>\n      <td>9</td>\n      <td>22</td>\n      <td>2011</td>\n    </tr>\n  </tbody>\n</table>\n<p>2700 rows × 7 columns</p>\n</div>"
     },
     "execution_count": 52,
     "metadata": {},
     "output_type": "execute_result"
    }
   ],
   "source": [
    "from kowalsky.df import scale\n",
    "\n",
    "def make_feed_5(ds_raw, params={}):\n",
    "    ds = make_feed_4(ds_raw, params)\n",
    "\n",
    "    ds = scale(ds, ['budget'])\n",
    "\n",
    "    return ds\n",
    "\n",
    "eval_feed(make_feed_5, '5', target_transform_fn=np.expm1)\n",
    "make_feed_5(ds)"
   ],
   "metadata": {
    "collapsed": false,
    "pycharm": {
     "name": "#%%\n"
    }
   }
  },
  {
   "cell_type": "code",
   "execution_count": 59,
   "outputs": [
    {
     "name": "stdout",
     "output_type": "stream",
     "text": [
      "0.21801364546991323\n"
     ]
    }
   ],
   "source": [
    "from xgboost import XGBRegressor\n",
    "\n",
    "id = 4\n",
    "kowalsky.analysis(XGBRegressor(**{'learning_rate': 0.21459742731195008, 'n_estimators': 73, 'max_depth': 5, 'gamma': 0.7088309669558474}),\n",
    "                      y_column='revenue',\n",
    "                      path=f\"./../data/feed/feed_{id}.csv\",\n",
    "                      path_test=f\"./../data/feed/feed_{id}_test.csv\",\n",
    "                      path_out=f\"./../data/out/!xgb_{id}.csv\",\n",
    "                      sample_path='./../data/sample_submission.csv',\n",
    "                      scorer='rmsle',\n",
    "                      greater_is_better=False,\n",
    "                      export_test_set=True,\n",
    "                      target_transform_fn=np.expm1)"
   ],
   "metadata": {
    "collapsed": false,
    "pycharm": {
     "name": "#%%\n"
    }
   }
  },
  {
   "cell_type": "code",
   "execution_count": 60,
   "outputs": [
    {
     "name": "stdout",
     "output_type": "stream",
     "text": [
      "0.19631165274163376\n"
     ]
    }
   ],
   "source": [
    "from lightgbm import LGBMRegressor\n",
    "\n",
    "id = 4\n",
    "kowalsky.analysis(LGBMRegressor(**{'learning_rate': 0.2690147408246944, 'n_estimators': 800, 'max_depth': 3, 'num_leaves': 185, 'min_child_samples': 155}),\n",
    "                      y_column='revenue',\n",
    "                      path=f\"./../data/feed/feed_{id}.csv\",\n",
    "                      path_test=f\"./../data/feed/feed_{id}_test.csv\",\n",
    "                      path_out=f\"./../data/out/!lgb_{id}.csv\",\n",
    "                      sample_path='./../data/sample_submission.csv',\n",
    "                      scorer='rmsle',\n",
    "                      greater_is_better=False,\n",
    "                      export_test_set=True,\n",
    "                      target_transform_fn=np.expm1)"
   ],
   "metadata": {
    "collapsed": false,
    "pycharm": {
     "name": "#%%\n"
    }
   }
  },
  {
   "cell_type": "code",
   "execution_count": 61,
   "outputs": [
    {
     "name": "stdout",
     "output_type": "stream",
     "text": [
      "0.19909202363189843\n"
     ]
    }
   ],
   "source": [
    "from sklearn.ensemble import RandomForestRegressor\n",
    "\n",
    "id = 4\n",
    "kowalsky.analysis(RandomForestRegressor(**{'min_samples_leaf': 3, 'min_samples_split': 0.05209842300647795, 'n_estimators': 108, 'max_depth': 9}),\n",
    "                      y_column='revenue',\n",
    "                      path=f\"./../data/feed/feed_{id}.csv\",\n",
    "                      path_test=f\"./../data/feed/feed_{id}_test.csv\",\n",
    "                      path_out=f\"./../data/out/!rf_{id}.csv\",\n",
    "                      sample_path='./../data/sample_submission.csv',\n",
    "                      scorer='rmsle',\n",
    "                      greater_is_better=False,\n",
    "                      export_test_set=True,\n",
    "                      target_transform_fn=np.expm1)"
   ],
   "metadata": {
    "collapsed": false,
    "pycharm": {
     "name": "#%%\n"
    }
   }
  },
  {
   "cell_type": "code",
   "execution_count": null,
   "outputs": [],
   "source": [],
   "metadata": {
    "collapsed": false,
    "pycharm": {
     "name": "#%%\n"
    }
   }
  }
 ],
 "metadata": {
  "kernelspec": {
   "display_name": "Python 3",
   "language": "python",
   "name": "python3"
  },
  "language_info": {
   "codemirror_mode": {
    "name": "ipython",
    "version": 2
   },
   "file_extension": ".py",
   "mimetype": "text/x-python",
   "name": "python",
   "nbconvert_exporter": "python",
   "pygments_lexer": "ipython2",
   "version": "2.7.6"
  }
 },
 "nbformat": 4,
 "nbformat_minor": 0
}